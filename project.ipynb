{
 "cells": [
  {
   "cell_type": "markdown",
   "metadata": {},
   "source": [
    "# EAS502 - Introduction to Probabilty Project"
   ]
  },
  {
   "cell_type": "markdown",
   "metadata": {},
   "source": [
    "### Team members - Vivek Patil (E-95), Nishi Mandhana (E-70)\n",
    "\n",
    "In this project, I have created a simulation where a robot moves towards an object in 3 different strategies. We have been given different probabilites at which the object moves left or right (p_om). The initial distance could be between 10 and 19, both included, with equal probabilites. We need to simulate time taken by the robot to catch the object at various initial distances for each p_om.\n",
    "\n",
    "Strategies followed by robot would be:\n",
    "1. Strategy 1 : At each unit of time, the robot will move 1 unit toward the object regardless of the object movement. \n",
    "2. Strategy 2: At each unit of time, the robot will move 1 unit toward the object (with the probability of 1.5 p_om )  or will stop (with the probability of 1-1.5p_om) regardless of the object movement.\n",
    "3. Strategy 3: At each unit of time, the robot will move 1 unit toward the object if the object  moves to either left or right, and the robot will stop if the object stops. "
   ]
  },
  {
   "cell_type": "markdown",
   "metadata": {},
   "source": [
    "## Note:\n",
    "1. Here we are assuming the robot is on the number line starting at 0, and the object is on the right at some *+ve* initial distance\n",
    "2. Swapping of the positions never happen. If the object passes the robot, it will be considered as caught."
   ]
  },
  {
   "cell_type": "markdown",
   "metadata": {},
   "source": [
    "## Importing all the necessary libraries"
   ]
  },
  {
   "cell_type": "code",
   "execution_count": 2,
   "metadata": {},
   "outputs": [],
   "source": [
    "from matplotlib import pyplot as plt\n",
    "import pandas as pd\n",
    "import numpy as np\n",
    "import csv"
   ]
  },
  {
   "cell_type": "markdown",
   "metadata": {},
   "source": [
    "### Just getting ready to plot beautiful graphs"
   ]
  },
  {
   "cell_type": "code",
   "execution_count": 3,
   "metadata": {},
   "outputs": [],
   "source": [
    "plt.rcParams[\"figure.figsize\"] = [7.00, 3.50]\n",
    "plt.rcParams[\"figure.autolayout\"] = True"
   ]
  },
  {
   "cell_type": "markdown",
   "metadata": {},
   "source": [
    "Setting up the column names and files to store our data from the simulation"
   ]
  },
  {
   "cell_type": "code",
   "execution_count": 4,
   "metadata": {},
   "outputs": [],
   "source": [
    "fields = ['strat', 'init_dist', 'p_om', 'time_taken']\n",
    "filename = 'data.csv'\n",
    "analytical_filename = 'analytical_data.csv'"
   ]
  },
  {
   "cell_type": "markdown",
   "metadata": {},
   "source": [
    "Given information"
   ]
  },
  {
   "cell_type": "code",
   "execution_count": 5,
   "metadata": {},
   "outputs": [],
   "source": [
    "#Initial Distances\n",
    "init_d = [i for i in range(10, 20)]\n",
    "\n",
    "#Probabilites of Object movement\n",
    "Prob_obj_mov = [0.1, 0.2, 0.3, 0.4, 0.5]\n",
    "\n",
    "#Probabilities of Object going right, left or stopping\n",
    "Pos = [[0.1, 0.1, 0.8], [0.2, 0.2, 0.6], [\n",
    "    0.3, 0.3, 0.4], [0.4, 0.4, 0.2], [0.5, 0.5, 0]]\n",
    "\n",
    "#Object moving 1 step to right or left or 0 for stopping\n",
    "obj_mov = [1, -1, 0]"
   ]
  },
  {
   "cell_type": "code",
   "execution_count": 6,
   "metadata": {},
   "outputs": [],
   "source": [
    "#Ajusting robot's movement for Strategy 2\n",
    "rob_Pos = [[0.15, 0.85], [0.3, 0.7], [0.45, 0.55], [0.6, 0.4], [0.75, 0.25]]\n",
    "rob_mov = [1, 0]"
   ]
  },
  {
   "cell_type": "markdown",
   "metadata": {},
   "source": [
    "## The Strategies"
   ]
  },
  {
   "cell_type": "markdown",
   "metadata": {},
   "source": [
    "### Strategy 1"
   ]
  },
  {
   "cell_type": "code",
   "execution_count": 7,
   "metadata": {},
   "outputs": [],
   "source": [
    "def strat_1(i, obj_pos):\n",
    "    time_taken = 0\n",
    "    rob_pos = 0\n",
    "\n",
    "    row = [1, obj_pos]\n",
    "\n",
    "    while(rob_pos != obj_pos):\n",
    "        obj_pos += np.random.choice(obj_mov, p=Pos[i])\n",
    "        time_taken += 1\n",
    "        if rob_pos == obj_pos:\n",
    "            break\n",
    "        if (rob_pos < obj_pos):\n",
    "            rob_pos += 1\n",
    "        else:\n",
    "            rob_pos -= 1\n",
    "\n",
    "    row.append(Prob_obj_mov[i])\n",
    "    row.append(time_taken)\n",
    "    rows.append(row)\n"
   ]
  },
  {
   "cell_type": "markdown",
   "metadata": {},
   "source": [
    "### Strategy 2"
   ]
  },
  {
   "cell_type": "code",
   "execution_count": 8,
   "metadata": {},
   "outputs": [],
   "source": [
    "def strat_2(i, obj_pos):\n",
    "    time_taken = 0\n",
    "    rob_pos = 0\n",
    "\n",
    "    row = [2, obj_pos]\n",
    "\n",
    "    while(rob_pos != obj_pos):\n",
    "        obj_pos += np.random.choice(obj_mov, p=Pos[i])\n",
    "        time_taken += 1\n",
    "        if rob_pos == obj_pos:\n",
    "            break\n",
    "        if (rob_pos < obj_pos):\n",
    "            rob_pos += np.random.choice(rob_mov, p=rob_Pos[i])\n",
    "        else:\n",
    "            rob_pos -= np.random.choice(rob_mov, p=rob_Pos[i])\n",
    "\n",
    "    row.append(Pos[i][0])\n",
    "    row.append(time_taken)\n",
    "    rows.append(row)\n"
   ]
  },
  {
   "cell_type": "markdown",
   "metadata": {},
   "source": [
    "### Strategy 3"
   ]
  },
  {
   "cell_type": "code",
   "execution_count": 9,
   "metadata": {},
   "outputs": [],
   "source": [
    "def strat_3(i, obj_pos):\n",
    "    time_taken = 0\n",
    "    rob_pos = 0\n",
    "\n",
    "    row = [3, obj_pos]\n",
    "\n",
    "    while(rob_pos != obj_pos):\n",
    "        obj_chg = np.random.choice(obj_mov, p=Pos[i])\n",
    "        time_taken += 1\n",
    "        if (obj_chg != 0):\n",
    "            if rob_pos == obj_pos:\n",
    "                break\n",
    "            if (rob_pos < obj_pos):\n",
    "                rob_pos += 1\n",
    "            else:\n",
    "                rob_pos -= 1\n",
    "\n",
    "    row.append(Pos[i][0])\n",
    "    row.append(time_taken)\n",
    "    rows.append(row)"
   ]
  },
  {
   "cell_type": "markdown",
   "metadata": {},
   "source": [
    "## LET THE SIMULATIONS BEGIN!"
   ]
  },
  {
   "cell_type": "code",
   "execution_count": 10,
   "metadata": {},
   "outputs": [],
   "source": [
    "rows = []\n",
    "\n",
    "#Running the simulation for 3000 time for every p_om\n",
    "#There will be a total of 3000*5 = 15000 data points to work with\n",
    "for _ in range(3000):\n",
    "    for i in range(len(Pos)):\n",
    "\n",
    "        #Choosing initial distance of the object\n",
    "        obj_pos = np.random.choice(init_d)\n",
    "\n",
    "        strat_1(i, obj_pos)\n",
    "        strat_2(i, obj_pos)\n",
    "        strat_3(i, obj_pos)\n"
   ]
  },
  {
   "cell_type": "markdown",
   "metadata": {},
   "source": [
    "## Storing the data taken from the simulation in data.csv file"
   ]
  },
  {
   "cell_type": "code",
   "execution_count": 11,
   "metadata": {},
   "outputs": [],
   "source": [
    "with open(filename, 'w') as csvfile:\n",
    "    # creating a csv writer object\n",
    "    csvwriter = csv.writer(csvfile)\n",
    "\n",
    "    # writing the fields\n",
    "    csvwriter.writerow(fields)\n",
    "\n",
    "    # writing the data rows\n",
    "    csvwriter.writerows(rows)\n",
    "\n",
    "df = pd.read_csv(filename)\n",
    "df.sample(n=10)\n",
    "\n",
    "#Reading the data from our MATLAB outputs\n",
    "analytical_df = pd.read_csv(analytical_filename)"
   ]
  },
  {
   "cell_type": "markdown",
   "metadata": {},
   "source": [
    "## Will you plot me?"
   ]
  },
  {
   "cell_type": "code",
   "execution_count": 12,
   "metadata": {},
   "outputs": [],
   "source": [
    "def plot_me_please(df, strat, p_om):\n",
    "    print(\"-\"*40)\n",
    "    print(\"Stats for strategy \", strat, \" & P_om \", p_om)\n",
    "    print(\"-\"*40)\n",
    "    print(df[\"time_taken\"].describe())\n",
    "    print(\"-\"*40 + \"\\n\")\n",
    "    if strat != 2:\n",
    "        print(\"Analytical solution from MATLAB = \", analytical_df[(\n",
    "            analytical_df[\"strat\"] == strat) & (analytical_df[\"p_om\"] == p_om)].iloc[0][\"time_taken\"])\n",
    "    else:\n",
    "        print(\"No analytical solution found on MATLAB for Strategy #2\")\n",
    "    plt.hist(df.time_taken, init_d)\n",
    "    plt.show()"
   ]
  },
  {
   "cell_type": "markdown",
   "metadata": {},
   "source": [
    "## Yes, I will plot you!\n",
    "\n",
    "I have plotted the summary of the database for each p_om and how it performs for each strategy and compared with analytical solution we obtained from MATLAB."
   ]
  },
  {
   "cell_type": "code",
   "execution_count": 13,
   "metadata": {},
   "outputs": [
    {
     "name": "stdout",
     "output_type": "stream",
     "text": [
      "----------------------------------------\n",
      "Stats for strategy  1  & P_om  0.1\n",
      "----------------------------------------\n",
      "count    3000.000000\n",
      "mean       14.591333\n",
      "std         3.257073\n",
      "min         6.000000\n",
      "25%        12.000000\n",
      "50%        15.000000\n",
      "75%        17.000000\n",
      "max        28.000000\n",
      "Name: time_taken, dtype: float64\n",
      "----------------------------------------\n",
      "\n",
      "Analytical solution from MATLAB =  14.6\n"
     ]
    },
    {
     "data": {
      "image/png": "[encoded data removed]",
      "text/plain": [
       "<Figure size 504x252 with 1 Axes>"
      ]
     },
     "metadata": {
      "needs_background": "light"
     },
     "output_type": "display_data"
    },
    {
     "name": "stdout",
     "output_type": "stream",
     "text": [
      "----------------------------------------\n",
      "Stats for strategy  2  & P_om  0.1\n",
      "----------------------------------------\n",
      "count    3000.000000\n",
      "mean       97.528667\n",
      "std        41.378899\n",
      "min        14.000000\n",
      "25%        68.000000\n",
      "50%        90.000000\n",
      "75%       121.000000\n",
      "max       378.000000\n",
      "Name: time_taken, dtype: float64\n",
      "----------------------------------------\n",
      "\n",
      "No analytical solution found on MATLAB for Strategy #2\n"
     ]
    },
    {
     "data": {
      "image/png": "[encoded data removed]",
      "text/plain": [
       "<Figure size 504x252 with 1 Axes>"
      ]
     },
     "metadata": {
      "needs_background": "light"
     },
     "output_type": "display_data"
    },
    {
     "name": "stdout",
     "output_type": "stream",
     "text": [
      "----------------------------------------\n",
      "Stats for strategy  3  & P_om  0.1\n",
      "----------------------------------------\n",
      "count    3000.000000\n",
      "mean       72.377000\n",
      "std        22.034202\n",
      "min        22.000000\n",
      "25%        56.000000\n",
      "50%        71.000000\n",
      "75%        87.000000\n",
      "max       165.000000\n",
      "Name: time_taken, dtype: float64\n",
      "----------------------------------------\n",
      "\n",
      "Analytical solution from MATLAB =  75.0\n"
     ]
    },
    {
     "data": {
      "image/png": "[encoded data removed]",
      "text/plain": [
       "<Figure size 504x252 with 1 Axes>"
      ]
     },
     "metadata": {
      "needs_background": "light"
     },
     "output_type": "display_data"
    },
    {
     "name": "stdout",
     "output_type": "stream",
     "text": [
      "----------------------------------------\n",
      "Stats for strategy  1  & P_om  0.2\n",
      "----------------------------------------\n",
      "count    3000.000000\n",
      "mean       14.658333\n",
      "std         3.806805\n",
      "min         6.000000\n",
      "25%        12.000000\n",
      "50%        14.000000\n",
      "75%        17.000000\n",
      "max        30.000000\n",
      "Name: time_taken, dtype: float64\n",
      "----------------------------------------\n",
      "\n",
      "Analytical solution from MATLAB =  14.7\n"
     ]
    },
    {
     "data": {
      "image/png": "[encoded data removed]",
      "text/plain": [
       "<Figure size 504x252 with 1 Axes>"
      ]
     },
     "metadata": {
      "needs_background": "light"
     },
     "output_type": "display_data"
    },
    {
     "name": "stdout",
     "output_type": "stream",
     "text": [
      "----------------------------------------\n",
      "Stats for strategy  2  & P_om  0.2\n",
      "----------------------------------------\n",
      "count    3000.000000\n",
      "mean       48.694333\n",
      "std        20.460461\n",
      "min        10.000000\n",
      "25%        34.000000\n",
      "50%        46.000000\n",
      "75%        60.000000\n",
      "max       168.000000\n",
      "Name: time_taken, dtype: float64\n",
      "----------------------------------------\n",
      "\n",
      "No analytical solution found on MATLAB for Strategy #2\n"
     ]
    },
    {
     "data": {
      "image/png": "[encoded data removed]",
      "text/plain": [
       "<Figure size 504x252 with 1 Axes>"
      ]
     },
     "metadata": {
      "needs_background": "light"
     },
     "output_type": "display_data"
    },
    {
     "name": "stdout",
     "output_type": "stream",
     "text": [
      "----------------------------------------\n",
      "Stats for strategy  3  & P_om  0.2\n",
      "----------------------------------------\n",
      "count    3000.000000\n",
      "mean       36.428667\n",
      "std        10.456004\n",
      "min        11.000000\n",
      "25%        29.000000\n",
      "50%        35.000000\n",
      "75%        43.000000\n",
      "max        77.000000\n",
      "Name: time_taken, dtype: float64\n",
      "----------------------------------------\n",
      "\n",
      "Analytical solution from MATLAB =  37.5\n"
     ]
    },
    {
     "data": {
      "image/png": "[encoded data removed]",
      "text/plain": [
       "<Figure size 504x252 with 1 Axes>"
      ]
     },
     "metadata": {
      "needs_background": "light"
     },
     "output_type": "display_data"
    },
    {
     "name": "stdout",
     "output_type": "stream",
     "text": [
      "----------------------------------------\n",
      "Stats for strategy  1  & P_om  0.3\n",
      "----------------------------------------\n",
      "count    3000.000000\n",
      "mean       14.912667\n",
      "std         4.140461\n",
      "min         6.000000\n",
      "25%        12.000000\n",
      "50%        15.000000\n",
      "75%        18.000000\n",
      "max        33.000000\n",
      "Name: time_taken, dtype: float64\n",
      "----------------------------------------\n",
      "\n",
      "Analytical solution from MATLAB =  14.8\n"
     ]
    },
    {
     "data": {
      "image/png": "[encoded data removed]",
      "text/plain": [
       "<Figure size 504x252 with 1 Axes>"
      ]
     },
     "metadata": {
      "needs_background": "light"
     },
     "output_type": "display_data"
    },
    {
     "name": "stdout",
     "output_type": "stream",
     "text": [
      "----------------------------------------\n",
      "Stats for strategy  2  & P_om  0.3\n",
      "----------------------------------------\n",
      "count    3000.000000\n",
      "mean       32.633000\n",
      "std        13.423277\n",
      "min         7.000000\n",
      "25%        23.000000\n",
      "50%        30.000000\n",
      "75%        40.000000\n",
      "max       111.000000\n",
      "Name: time_taken, dtype: float64\n",
      "----------------------------------------\n",
      "\n",
      "No analytical solution found on MATLAB for Strategy #2\n"
     ]
    },
    {
     "data": {
      "image/png": "[encoded data removed]",
      "text/plain": [
       "<Figure size 504x252 with 1 Axes>"
      ]
     },
     "metadata": {
      "needs_background": "light"
     },
     "output_type": "display_data"
    },
    {
     "name": "stdout",
     "output_type": "stream",
     "text": [
      "----------------------------------------\n",
      "Stats for strategy  3  & P_om  0.3\n",
      "----------------------------------------\n",
      "count    3000.000000\n",
      "mean       24.242667\n",
      "std         6.327332\n",
      "min        11.000000\n",
      "25%        19.000000\n",
      "50%        24.000000\n",
      "75%        29.000000\n",
      "max        48.000000\n",
      "Name: time_taken, dtype: float64\n",
      "----------------------------------------\n",
      "\n",
      "Analytical solution from MATLAB =  25.0\n"
     ]
    },
    {
     "data": {
      "image/png": "[encoded data removed]",
      "text/plain": [
       "<Figure size 504x252 with 1 Axes>"
      ]
     },
     "metadata": {
      "needs_background": "light"
     },
     "output_type": "display_data"
    },
    {
     "name": "stdout",
     "output_type": "stream",
     "text": [
      "----------------------------------------\n",
      "Stats for strategy  1  & P_om  0.4\n",
      "----------------------------------------\n",
      "count    3000.000000\n",
      "mean       15.079333\n",
      "std         4.588833\n",
      "min         5.000000\n",
      "25%        12.000000\n",
      "50%        15.000000\n",
      "75%        18.000000\n",
      "max        34.000000\n",
      "Name: time_taken, dtype: float64\n",
      "----------------------------------------\n",
      "\n",
      "Analytical solution from MATLAB =  14.8996\n"
     ]
    },
    {
     "data": {
      "image/png": "[encoded data removed]",
      "text/plain": [
       "<Figure size 504x252 with 1 Axes>"
      ]
     },
     "metadata": {
      "needs_background": "light"
     },
     "output_type": "display_data"
    },
    {
     "name": "stdout",
     "output_type": "stream",
     "text": [
      "----------------------------------------\n",
      "Stats for strategy  2  & P_om  0.4\n",
      "----------------------------------------\n",
      "count    3000.000000\n",
      "mean       25.070667\n",
      "std        10.107014\n",
      "min         7.000000\n",
      "25%        18.000000\n",
      "50%        23.000000\n",
      "75%        30.000000\n",
      "max        95.000000\n",
      "Name: time_taken, dtype: float64\n",
      "----------------------------------------\n",
      "\n",
      "No analytical solution found on MATLAB for Strategy #2\n"
     ]
    },
    {
     "data": {
      "image/png": "[encoded data removed]",
      "text/plain": [
       "<Figure size 504x252 with 1 Axes>"
      ]
     },
     "metadata": {
      "needs_background": "light"
     },
     "output_type": "display_data"
    },
    {
     "name": "stdout",
     "output_type": "stream",
     "text": [
      "----------------------------------------\n",
      "Stats for strategy  3  & P_om  0.4\n",
      "----------------------------------------\n",
      "count    3000.000000\n",
      "mean       18.356000\n",
      "std         4.202676\n",
      "min        10.000000\n",
      "25%        15.000000\n",
      "50%        18.000000\n",
      "75%        22.000000\n",
      "max        32.000000\n",
      "Name: time_taken, dtype: float64\n",
      "----------------------------------------\n",
      "\n",
      "Analytical solution from MATLAB =  18.75\n"
     ]
    },
    {
     "data": {
      "image/png": "[encoded data removed]",
      "text/plain": [
       "<Figure size 504x252 with 1 Axes>"
      ]
     },
     "metadata": {
      "needs_background": "light"
     },
     "output_type": "display_data"
    },
    {
     "name": "stdout",
     "output_type": "stream",
     "text": [
      "----------------------------------------\n",
      "Stats for strategy  1  & P_om  0.5\n",
      "----------------------------------------\n",
      "count    3000.000000\n",
      "mean       14.897667\n",
      "std         4.780810\n",
      "min         5.000000\n",
      "25%        11.000000\n",
      "50%        15.000000\n",
      "75%        18.000000\n",
      "max        36.000000\n",
      "Name: time_taken, dtype: float64\n",
      "----------------------------------------\n",
      "\n",
      "Analytical solution from MATLAB =  15.0\n"
     ]
    },
    {
     "data": {
      "image/png": "[encoded data removed]",
      "text/plain": [
       "<Figure size 504x252 with 1 Axes>"
      ]
     },
     "metadata": {
      "needs_background": "light"
     },
     "output_type": "display_data"
    },
    {
     "name": "stdout",
     "output_type": "stream",
     "text": [
      "----------------------------------------\n",
      "Stats for strategy  2  & P_om  0.5\n",
      "----------------------------------------\n",
      "count    3000.000000\n",
      "mean       19.933000\n",
      "std         7.536408\n",
      "min         5.000000\n",
      "25%        14.000000\n",
      "50%        19.000000\n",
      "75%        24.250000\n",
      "max        55.000000\n",
      "Name: time_taken, dtype: float64\n",
      "----------------------------------------\n",
      "\n",
      "No analytical solution found on MATLAB for Strategy #2\n"
     ]
    },
    {
     "data": {
      "image/png": "[encoded data removed]",
      "text/plain": [
       "<Figure size 504x252 with 1 Axes>"
      ]
     },
     "metadata": {
      "needs_background": "light"
     },
     "output_type": "display_data"
    },
    {
     "name": "stdout",
     "output_type": "stream",
     "text": [
      "----------------------------------------\n",
      "Stats for strategy  3  & P_om  0.5\n",
      "----------------------------------------\n",
      "count    3000.000000\n",
      "mean       14.509667\n",
      "std         2.855046\n",
      "min        10.000000\n",
      "25%        12.000000\n",
      "50%        15.000000\n",
      "75%        17.000000\n",
      "max        19.000000\n",
      "Name: time_taken, dtype: float64\n",
      "----------------------------------------\n",
      "\n",
      "Analytical solution from MATLAB =  15.0\n"
     ]
    },
    {
     "data": {
      "image/png": "[encoded data removed]",
      "text/plain": [
       "<Figure size 504x252 with 1 Axes>"
      ]
     },
     "metadata": {
      "needs_background": "light"
     },
     "output_type": "display_data"
    }
   ],
   "source": [
    "for i in Prob_obj_mov:\n",
    "    for j in range(1, 4):\n",
    "        plot_me_please(df[(df[\"strat\"] == j) & (df[\"p_om\"] == i)], j, i)"
   ]
  }
 ],
 "metadata": {
  "interpreter": {
   "hash": "b8f2ef87492eb9a23e3154b23cf838c95e8c5b1bb97ac7d8a8ea3412c9ca47d4"
  },
  "kernelspec": {
   "display_name": "Python 3.9.1 64-bit",
   "name": "python3"
  },
  "language_info": {
   "codemirror_mode": {
    "name": "ipython",
    "version": 3
   },
   "file_extension": ".py",
   "mimetype": "text/x-python",
   "name": "python",
   "nbconvert_exporter": "python",
   "pygments_lexer": "ipython3",
   "version": "3.9.1"
  },
  "orig_nbformat": 4
 },
 "nbformat": 4,
 "nbformat_minor": 2
}
